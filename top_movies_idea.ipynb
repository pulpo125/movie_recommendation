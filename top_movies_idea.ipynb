{
 "cells": [
  {
   "cell_type": "code",
   "execution_count": 12,
   "metadata": {},
   "outputs": [],
   "source": [
    "def pop_movie_top10(top_movie_id):\n",
    "    movie_top10 = []\n",
    "    for i in range(10):\n",
    "        movie_top10.append(top_movie_id.pop(0))\n",
    "    return movie_top10"
   ]
  },
  {
   "cell_type": "code",
   "execution_count": 17,
   "metadata": {},
   "outputs": [
    {
     "data": {
      "text/plain": [
       "[117, 14, 24, 182, 215, 175, 63, 201, 233, 190]"
      ]
     },
     "execution_count": 17,
     "metadata": {},
     "output_type": "execute_result"
    }
   ],
   "source": [
    "pop_movie_top10(top_movie_id)"
   ]
  },
  {
   "cell_type": "code",
   "execution_count": null,
   "metadata": {},
   "outputs": [],
   "source": [
    "# favorite_movies = st.multiselect('좋아하는 영화를 선택해주세요.', top_movies)\n",
    "\n",
    "# if st.button('Next'):\n",
    "#     favorite_movies = st.multiselect('좋아하는 영화를 선택해주세요.', top_movies)\n",
    "#     n += 10\n",
    "# else:\n",
    "#     n = 0\n",
    "#     top_movies = get_top_movies(movielens, top_movie_id)\n",
    "# favorite_movies\n",
    "#     rating_lst = []\n",
    "#     for movie in top_movies:\n",
    "#         rating = st.slider(f'**{movie}의 평점을 입력해주세요.**', 0, 5)\n",
    "#         rating_lst.append(rating)\n",
    "\n",
    "#     # 10개 이상 평점을 매기면 다음으로 넘어갈 수 있음\n",
    "#     rating_cnt = len(rating_lst) - rating_lst.count(0)\n",
    "\n",
    "#     if rating_cnt >= 10:\n",
    "#         st.button('Next', disabled=True)\n",
    "#         st.button('등록', disabled=False)\n",
    "#         break\n",
    "#     # 0이 10개 이하이면 다음으로 못 넘어감\n",
    "#     else:\n",
    "#         if st.button('Next', disabled=False):\n",
    "#             n += 10\n",
    "#         st.button('등록', disabled=True)\n",
    "    \n",
    "# # # next 버튼을 누르면 다음 10개 영화 보여줌\n",
    "# # if st.button('Next') == False:\n",
    "# #     top_movies, n = get_top_movies(movielens, top_movie_id)\n",
    "# # # next 버튼을 누르지 않으면 10개 영화 보여줌\n",
    "# # else:\n",
    "# #     st.button('Next')\n",
    "# #     top_movies, n = get_top_movies(movielens, top_movie_id, n)\n",
    "# #     n += 10\n",
    "\n",
    "# # # 평점 매기기 (1~5점, 0이면 안본 영화)\n",
    "# # rating_lst = []\n",
    "# # for movie in top_movies:\n",
    "# #     rating = st.slider(f'**{movie}의 평점을 입력해주세요.**', 0, 5)\n",
    "# #     rating_lst.append(rating)\n",
    "\n",
    "# # # 10개 이상 평점을 매기면 다음으로 넘어갈 수 있음\n",
    "# # rating_cnt = len(rating_lst) - rating_lst.count(0)\n",
    "\n",
    "# # if rating_cnt >= 10:\n",
    "# #     st.button('등록', disabled=False)\n",
    "\n",
    "# # # 0이 10개 이하이면 다음으로 못 넘어감\n",
    "# # else:\n",
    "# #     st.button('등록', disabled=True)\n",
    "\n",
    "# # # footer\n",
    "\n",
    "# st.write(n)\n",
    "\n",
    "\n",
    "# conn.commit()\n",
    "# conn.close()"
   ]
  }
 ],
 "metadata": {
  "kernelspec": {
   "display_name": "base",
   "language": "python",
   "name": "python3"
  },
  "language_info": {
   "codemirror_mode": {
    "name": "ipython",
    "version": 3
   },
   "file_extension": ".py",
   "mimetype": "text/x-python",
   "name": "python",
   "nbconvert_exporter": "python",
   "pygments_lexer": "ipython3",
   "version": "3.10.9"
  },
  "orig_nbformat": 4
 },
 "nbformat": 4,
 "nbformat_minor": 2
}
